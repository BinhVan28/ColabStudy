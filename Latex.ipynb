{
  "nbformat": 4,
  "nbformat_minor": 0,
  "metadata": {
    "colab": {
      "provenance": [],
      "authorship_tag": "ABX9TyNSyKbutr7iTMgIY0EKcjFU",
      "include_colab_link": true
    },
    "kernelspec": {
      "name": "python3",
      "display_name": "Python 3"
    },
    "language_info": {
      "name": "python"
    }
  },
  "cells": [
    {
      "cell_type": "markdown",
      "metadata": {
        "id": "view-in-github",
        "colab_type": "text"
      },
      "source": [
        "<a href=\"https://colab.research.google.com/github/BinhVan28/ColabStudy/blob/main/Latex.ipynb\" target=\"_parent\"><img src=\"https://colab.research.google.com/assets/colab-badge.svg\" alt=\"Open In Colab\"/></a>"
      ]
    },
    {
      "cell_type": "markdown",
      "source": [
        "# L1\n",
        "## L2\n",
        "### L3\n",
        "\n",
        "$x^2 = 1$\n",
        "\n",
        "$$x^2 = 1$$\n",
        "\n",
        "**bold text**\n",
        "\n",
        "*italic*\n",
        "\n",
        "* list item 1\n",
        "* list item 2\n",
        "\n",
        "_italic_\n",
        "\n",
        "~~stri~~\n",
        "\n"
      ],
      "metadata": {
        "id": "ARxlCLlbYPVT"
      }
    },
    {
      "cell_type": "markdown",
      "source": [
        "Xin chào `import numpy`\n",
        "\n",
        "[ChiLinh](https://fpt.workplace.com/photo/?fbid=413245983267060&set=a.108668493724812)"
      ],
      "metadata": {
        "id": "Z28jy5CaY9is"
      }
    },
    {
      "cell_type": "markdown",
      "source": [
        "Đây là 1 khối code\n",
        "\n",
        "```\n",
        "import numpy as np\n",
        "import pandas as pd\n",
        "```\n",
        "\n",
        "> hello\n",
        ">> hihi"
      ],
      "metadata": {
        "id": "3rTn2xTDZ0qj"
      }
    },
    {
      "cell_type": "code",
      "execution_count": null,
      "metadata": {
        "id": "Zqwg61agYMD8"
      },
      "outputs": [],
      "source": []
    }
  ]
}