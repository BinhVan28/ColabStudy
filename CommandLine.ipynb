{
  "nbformat": 4,
  "nbformat_minor": 0,
  "metadata": {
    "colab": {
      "provenance": [],
      "authorship_tag": "ABX9TyPalcw/wTk+bPqKbAjZVVbS",
      "include_colab_link": true
    },
    "kernelspec": {
      "name": "python3",
      "display_name": "Python 3"
    },
    "language_info": {
      "name": "python"
    }
  },
  "cells": [
    {
      "cell_type": "markdown",
      "metadata": {
        "id": "view-in-github",
        "colab_type": "text"
      },
      "source": [
        "<a href=\"https://colab.research.google.com/github/BinhVan28/ColabStudy/blob/main/CommandLine.ipynb\" target=\"_parent\"><img src=\"https://colab.research.google.com/assets/colab-badge.svg\" alt=\"Open In Colab\"/></a>"
      ]
    },
    {
      "cell_type": "markdown",
      "source": [
        "Add 1 !\n",
        "ex: \n",
        "* !ls\n",
        "* !pip install \n",
        "* !wget #tải dữ liệu\n",
        "* !unzip <file_name> "
      ],
      "metadata": {
        "id": "wlIi7VtHdb-p"
      }
    },
    {
      "cell_type": "code",
      "execution_count": null,
      "metadata": {
        "id": "5CEpU3GWdLsx"
      },
      "outputs": [],
      "source": []
    }
  ]
}